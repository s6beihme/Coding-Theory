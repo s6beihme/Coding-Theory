{
 "cells": [
  {
   "cell_type": "code",
   "execution_count": 1,
   "metadata": {},
   "outputs": [],
   "source": [
    "import numpy as np\n",
    "from functools import reduce\n",
    "from itertools import combinations\n",
    "from scipy.special import binom\n",
    "import random\n",
    "import time\n",
    "\n",
    "m=8\n",
    "r=4"
   ]
  },
  {
   "cell_type": "code",
   "execution_count": 2,
   "metadata": {},
   "outputs": [],
   "source": [
    "def message_length(m, r):\n",
    "    return sum([binom(m,i) for i in range(r+1)])"
   ]
  },
  {
   "cell_type": "code",
   "execution_count": 3,
   "metadata": {},
   "outputs": [],
   "source": [
    "def generator_matrix(m, r):\n",
    "    # associate x_i to the bitset with of length 2^m\n",
    "    # of the form 2^(m-i-1) 1's followed by 2^(m-i-1) 0's\n",
    "    # and so on, call this bitset nu(x_i)\n",
    "    single_var_monomials=[np.array((2**(m-i-1)*[1]+2**(m-i-1)*[0])*2**i) for i in range(m)]\n",
    "    \n",
    "    # associate x_i_1*...*x_i_k to\n",
    "    # nu(x_i_1)*...*nu(x_i_k) (bitwise multiplication)\n",
    "    mult_var_monomials=[reduce(lambda v,w:v*w, [single_var_monomials[i] for i in factors]) \n",
    "                        for num_factors in range(2,r+1)\n",
    "                        for factors in combinations(range(m), num_factors)]\n",
    "    \n",
    "    # finally, associate 1 to the bitset of 2^m 1's, \n",
    "    # put all the matrices together and compose the \n",
    "    # resulting matrix (for easier multiplication later))\n",
    "    if r==1:\n",
    "        return np.transpose(np.concatenate((np.array([[1]*2**m]), single_var_monomials)))\n",
    "    else:\n",
    "        return np.transpose(np.concatenate((np.array([[1]*2**m]), single_var_monomials, mult_var_monomials)))\n",
    "\n",
    "def all_complementary_polynomials(compl_factors, m):\n",
    "    # generate all \"polynomials\" of degree |compl_factors| consisting\n",
    "    # of x_i's and (1-x_i)'s' with i in compl_factors\n",
    "    \n",
    "    if len(compl_factors)==0:\n",
    "        return [np.array([1]*2**m)]\n",
    "    \n",
    "    x_i=compl_factors[0]\n",
    "    compl_factors_rest=compl_factors[1:]\n",
    "    \n",
    "    x_i_row=np.array(([1]*2**(m-x_i-1)+[0]*2**(m-x_i-1))*2**x_i)\n",
    "    x_i_row_inv=np.array([1]*2**m)-x_i_row\n",
    "    \n",
    "    compl_polys_rest=all_complementary_polynomials(compl_factors_rest,m)\n",
    "    \n",
    "    return [x_i_row*poly for poly in compl_polys_rest] + [x_i_row_inv*poly for poly in compl_polys_rest]\n",
    "\n",
    "def all_S_fs(m,r):\n",
    "    # find S_f for all f in M_m\n",
    "    return [all_complementary_polynomials([i for i in range(m) if i not in factors], m)\n",
    "            for num_factors in range(r+1)\n",
    "            for factors in combinations(range(m), num_factors)]\n",
    "\n",
    "def shorten_S_fs(m,r,S):\n",
    "    req_size=2**(m-r)\n",
    "    for j in range(len(S)):\n",
    "        #print(len(S[j]))\n",
    "        S[j]=S[j][:req_size]\n",
    "    return S\n",
    "def encode_message(message, M):\n",
    "    return np.array([np.sum(message*col)%2 for col in M])\n",
    "\n",
    "def decode_codeword(codeword, M, S, m, r): #TODO only 2^(m-r) estimates\n",
    "    message=[]\n",
    "    k=Integer(message_length(m,r))\n",
    "    for j in range(k-1, -1, -1):\n",
    "        vote=[0,0]\n",
    "        for s in S[j]:\n",
    "            vote[np.sum(codeword*s)%2]+=1\n",
    "        if vote[0]==vote[1]:\n",
    "            message+=[-1]\n",
    "        elif vote[0]>vote[1]:\n",
    "            message.insert(0,0)\n",
    "        else:\n",
    "            message.insert(0,1)\n",
    "            codeword=(codeword-np.transpose(M)[j])%2\n",
    "            \n",
    "    return np.array(message)"
   ]
  },
  {
   "cell_type": "code",
   "execution_count": 10,
   "metadata": {},
   "outputs": [
    {
     "name": "stdout",
     "output_type": "stream",
     "text": [
      "16\n",
      "0.11213750002207235\n",
      "0.11912069999380037\n",
      "0.185853999981191\n",
      "0.12636059999931604\n",
      "0.11787289998028427\n",
      "0.1250869000214152\n",
      "0.1401171999750659\n",
      "0.14607799996156245\n",
      "0.12955059995874763\n",
      "0.12257290002889931\n"
     ]
    }
   ],
   "source": [
    "M=generator_matrix(m,r)\n",
    "S=all_S_fs(m,r)\n",
    "S=shorten_S_fs(m,r,S)\n",
    "print(len(S[0]))\n",
    "k=Integer(message_length(m,r))\n",
    "count=0\n",
    "for blub in range(5):\n",
    "    message=np.array([0]*k)\n",
    "    for i in random.sample(range(k), k-10):\n",
    "            message[i]=1\n",
    "    codeword=encode_message(message,M)\n",
    "    \n",
    "    for bla in range(2):\n",
    "        error=np.array([0]*(2**m))\n",
    "        for i in random.sample(range(2**m), 2**(m-r-1)-4):\n",
    "            error[i]=1\n",
    "        received=(codeword+error)%2\n",
    "        tic=time.perf_counter()\n",
    "        decoded_message=decode_codeword(received,M,S,m,r)\n",
    "        toc=time.perf_counter()\n",
    "        print(toc-tic)\n",
    "        if not (decoded_message==message).all():\n",
    "            print(\"Fail\")"
   ]
  },
  {
   "cell_type": "code",
   "execution_count": 314,
   "metadata": {},
   "outputs": [
    {
     "name": "stdout",
     "output_type": "stream",
     "text": [
      "[0 1 2]\n"
     ]
    }
   ],
   "source": [
    "def foo(x):\n",
    "    \n",
    "\n",
    "df=np.array([0,1,2,3,4])\n",
    "print(df[:3])\n"
   ]
  },
  {
   "cell_type": "code",
   "execution_count": 169,
   "metadata": {},
   "outputs": [
    {
     "name": "stdout",
     "output_type": "stream",
     "text": [
      "[5 4 3 2 1 0]\n"
     ]
    }
   ],
   "source": [
    "print(np.array(range(5,-1,-1)))"
   ]
  },
  {
   "cell_type": "code",
   "execution_count": 184,
   "metadata": {},
   "outputs": [
    {
     "data": {
      "text/plain": [
       "array([2, 5])"
      ]
     },
     "execution_count": 184,
     "metadata": {},
     "output_type": "execute_result"
    }
   ],
   "source": [
    "M=np.array([np.array([1,2,3]),\n",
    "           np.array([4,5,6])])\n",
    "np.transpose(M)[1]"
   ]
  },
  {
   "cell_type": "code",
   "execution_count": 67,
   "metadata": {},
   "outputs": [
    {
     "data": {
      "text/plain": [
       "array([[1, 2],\n",
       "       [3, 4],\n",
       "       [5, 6],\n",
       "       [7, 8]])"
      ]
     },
     "execution_count": 67,
     "metadata": {},
     "output_type": "execute_result"
    }
   ],
   "source": [
    "a = np.array([[1, 2], [3, 4]])\n",
    "\n",
    "b = np.array([[5, 6]])\n",
    "\n",
    "c = np.array([[7, 8]])\n",
    "\n",
    "np.concatenate((a, b, c), axis=0)"
   ]
  },
  {
   "cell_type": "code",
   "execution_count": 304,
   "metadata": {},
   "outputs": [
    {
     "name": "stdout",
     "output_type": "stream",
     "text": [
      "210507.315969\n",
      "210511.0631707\n"
     ]
    }
   ],
   "source": [
    "import time\n",
    "print(time.perf_counter())\n",
    "for i in range(10000000):\n",
    "    a=3*4\n",
    "print(time.perf_counter())"
   ]
  },
  {
   "cell_type": "code",
   "execution_count": 234,
   "metadata": {},
   "outputs": [
    {
     "name": "stdout",
     "output_type": "stream",
     "text": [
      "<class 'numpy.ndarray'>\n"
     ]
    }
   ],
   "source": [
    "print(type(np.zeros(5)))"
   ]
  }
 ],
 "metadata": {
  "kernelspec": {
   "display_name": "SageMath 9.2",
   "language": "sage",
   "name": "sagemath"
  },
  "language_info": {
   "codemirror_mode": {
    "name": "ipython",
    "version": 3
   },
   "file_extension": ".py",
   "mimetype": "text/x-python",
   "name": "python",
   "nbconvert_exporter": "python",
   "pygments_lexer": "ipython3",
   "version": "3.7.7"
  }
 },
 "nbformat": 4,
 "nbformat_minor": 4
}
