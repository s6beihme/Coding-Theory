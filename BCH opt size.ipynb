{
 "cells": [
  {
   "cell_type": "code",
   "execution_count": 6,
   "metadata": {},
   "outputs": [],
   "source": [
    "from scipy.stats import binom\n",
    "from math import floor\n",
    "\n",
    "import matplotlib.pyplot as plt\n",
    "\n",
    "p=0.005\n",
    "max_error_rate=10**-4"
   ]
  },
  {
   "cell_type": "code",
   "execution_count": 7,
   "metadata": {},
   "outputs": [],
   "source": [
    "def cyclotomic_coset(j,n):\n",
    "    i=j\n",
    "    ccs={j}\n",
    "    while (i*2)%n not in ccs:\n",
    "        i=(i*2)%n\n",
    "        ccs=ccs.union({i})\n",
    "    return ccs\n",
    "\n",
    "def narrow_sense_T(dist,n):\n",
    "    #print(\"type dist:\", type(dist))\n",
    "    #print(\"type n:\", type(n))\n",
    "    T=set()\n",
    "    for j in range(1,dist):\n",
    "        T=T.union(cyclotomic_coset(j,n))\n",
    "    return T\n",
    "\n",
    "def bit_error_rate(dist,n):\n",
    "    return 1-binom.cdf(floor((dist-1)/2), n, p)\n",
    "\n",
    "def smallest_allowed_dist(n,eps):\n",
    "    for dist in range(2,n):\n",
    "        #print(dist, bit_error_rate(dist,n))\n",
    "        if bit_error_rate(dist,n)<=eps:\n",
    "            return dist\n",
    "        \n",
    "def information_rate(n,eps):\n",
    "    dist=smallest_allowed_dist(n,eps)\n",
    "    T=narrow_sense_T(dist,n)\n",
    "    return (n-len(T))/n"
   ]
  },
  {
   "cell_type": "code",
   "execution_count": 12,
   "metadata": {},
   "outputs": [
    {
     "name": "stdout",
     "output_type": "stream",
     "text": [
      "3 5 0.14285714285714285\n",
      "4 5 0.4666666666666667\n",
      "5 7 0.5161290322580645\n",
      "6 9 0.6190476190476191\n",
      "7 11 0.7244094488188977\n",
      "8 15 0.7803921568627451\n",
      "9 21 0.8238747553816047\n",
      "10 31 0.8533724340175953\n",
      "11 49 0.8710307767464582\n",
      "12 79 0.8871794871794871\n",
      "13 135 0.8952508851178123\n",
      "14 237 0.8995910394921565\n",
      "15 427 0.9034089175084689\n",
      "16 795 0.90429541466392\n",
      "17 1505 0.903632382449207\n",
      "18 2895 0.9021183094723109\n",
      "19 5627 0.8997972484536142\n"
     ]
    }
   ],
   "source": [
    "for m in range(3,20):\n",
    "    n=(2**m)-1\n",
    "    d=smallest_allowed_dist(n,max_error_rate)\n",
    "    #T=narrow_sense_T(d,n)\n",
    "    print(m, d, float(information_rate(n,max_error_rate)))"
   ]
  },
  {
   "cell_type": "code",
   "execution_count": 9,
   "metadata": {},
   "outputs": [
    {
     "data": {
      "image/png": "[encoded data removed]",
      "text/plain": [
       "<Figure size 432x288 with 1 Axes>"
      ]
     },
     "metadata": {
      "needs_background": "light"
     },
     "output_type": "display_data"
    }
   ],
   "source": [
    "x=list(range(4,17))\n",
    "y1=[]\n",
    "y2=[]\n",
    "for m in x:\n",
    "    n=(2**m)-1\n",
    "    y1+=[information_rate(n,10**-4)]\n",
    "    y2+=[information_rate(n,10**-9)]\n",
    "    #d1=smallest_allowed_dist(n,10**-4)\n",
    "    #T1=narrow_sense_T(d,n)\n",
    "    #y1+=[n-len(T1)]\n",
    "    #\n",
    "    #d2=smallest_allowed_dist(n,10**-9)\n",
    "    #T2=narrow_sense_T(d2,n)\n",
    "    #y2+=[n-len(T2)]\n",
    "    \n",
    "\n",
    "plt.plot(x,y1, label=\"e-4\")\n",
    "plt.plot(x,y2, label=\"e-9\")\n",
    "plt.legend()\n",
    "plt.show()"
   ]
  },
  {
   "cell_type": "code",
   "execution_count": 11,
   "metadata": {},
   "outputs": [
    {
     "name": "stdout",
     "output_type": "stream",
     "text": [
      "{1, 2, 4, 5, 7, 8}\n"
     ]
    }
   ],
   "source": [
    "print(narrow_sense_T(3,9))"
   ]
  }
 ],
 "metadata": {
  "kernelspec": {
   "display_name": "SageMath 9.2",
   "language": "sage",
   "name": "sagemath"
  },
  "language_info": {
   "codemirror_mode": {
    "name": "ipython",
    "version": 3
   },
   "file_extension": ".py",
   "mimetype": "text/x-python",
   "name": "python",
   "nbconvert_exporter": "python",
   "pygments_lexer": "ipython3",
   "version": "3.7.7"
  }
 },
 "nbformat": 4,
 "nbformat_minor": 4
}
