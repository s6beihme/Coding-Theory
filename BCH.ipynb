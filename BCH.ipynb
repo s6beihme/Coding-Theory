{
 "cells": [
  {
   "cell_type": "code",
   "execution_count": 316,
   "metadata": {},
   "outputs": [
    {
     "name": "stdout",
     "output_type": "stream",
     "text": [
      "n 255\n",
      "k 199\n",
      "|T| 56\n"
     ]
    }
   ],
   "source": [
    "import numpy as np\n",
    "import random\n",
    "import time\n",
    "\n",
    "# This cell does the setup for the rest. \n",
    "# Only the first two variables should be changed by the user!\n",
    "\n",
    "\n",
    "m=8\n",
    "dist=15\n",
    "\n",
    "n=2**m-1\n",
    "\n",
    "def cyclotomic_coset(j):\n",
    "    i=j\n",
    "    ccs={j}\n",
    "    while (i*2)%n not in ccs:\n",
    "        i=(i*2)%n\n",
    "        ccs=ccs.union({i})\n",
    "    return ccs\n",
    "\n",
    "def narrow_sense_T():\n",
    "    T=set()\n",
    "    for j in range(1,dist):\n",
    "        T=T.union(cyclotomic_coset(j))\n",
    "    return T\n",
    "\n",
    "T=narrow_sense_T()\n",
    "k=n-len(T)\n",
    "\n",
    "print(\"n\",n)\n",
    "print(\"k\",k)\n",
    "print(\"|T|\",len(T))\n",
    "\n",
    "F=GF(2)\n",
    "E=GF(2**m,'w')\n",
    "R.<X>=PolynomialRing(F)\n",
    "alpha=E.gen()"
   ]
  },
  {
   "cell_type": "code",
   "execution_count": 317,
   "metadata": {},
   "outputs": [],
   "source": [
    "def generator_polynomial():\n",
    "    return prod([X-alpha**i for i in T])\n",
    "\n",
    "def encode_message(message, g):\n",
    "    r=(R(message)*X**(n-k))%g\n",
    "    codeword=r.list()+([0]*(g.degree()-r.degree()-1))+message\n",
    "    return codeword"
   ]
  },
  {
   "cell_type": "code",
   "execution_count": 318,
   "metadata": {},
   "outputs": [],
   "source": [
    "#auxillary functions for decoding\n",
    "\n",
    "def syndromes(received_polynomial):\n",
    "    return [received_polynomial(alpha**i) for i in range(1,dist)]\n",
    "\n",
    "def bm(s):\n",
    "    X = R.0\n",
    "    C = R.one()\n",
    "    B = R.one()\n",
    "    L = 0\n",
    "    deltap = 1\n",
    "    m = -1\n",
    "    for j in range(len(s)):\n",
    "        delta = sum([ s[j-i]*C[i] for i in range(C.degree()+1)])\n",
    "        if delta != 0:\n",
    "            T = C\n",
    "            C = C - delta/deltap*X^(j-m)*B\n",
    "            if 2*L <= j:\n",
    "                B = T\n",
    "                m = j\n",
    "                deltap = delta\n",
    "                L = j + 1 - L\n",
    "        #print(j,\"|\",L,\"|\",C,\"|\",B,\"|\",delta)\n",
    "    return (L,C)\n",
    "\n",
    "def error_locations(C):\n",
    "    return [(n-i)%n for i in range(n) if C(alpha**i)==0]"
   ]
  },
  {
   "cell_type": "code",
   "execution_count": 325,
   "metadata": {},
   "outputs": [
    {
     "name": "stdout",
     "output_type": "stream",
     "text": [
      "[0, 1, 0, 1, 1, 1, 1, 1, 1, 1, 1, 1, 1, 1, 1, 1, 0, 1, 1, 1, 1, 1, 1, 1, 1, 1, 1, 1, 1, 1, 1, 1, 1, 1, 1, 1, 1, 1, 1, 1, 1, 1, 1, 1, 1, 1, 1, 1, 1, 1, 1, 1, 1, 1, 1, 1, 1, 1, 1, 1, 1, 1, 1, 1, 1, 1, 1, 1, 1, 1, 1, 1, 1, 1, 1, 1, 1, 1, 1, 1, 1, 1, 1, 1, 1, 1, 1, 1, 1, 1, 1, 1, 1, 1, 1, 1, 1, 1, 1, 1, 1, 1, 1, 1, 1, 1, 1, 1, 1, 1, 1, 1, 1, 1, 1, 1, 1, 1, 1, 1, 1, 1, 1, 1, 1, 1, 1, 1, 1, 1, 1, 1, 1, 1, 1, 1, 1, 1, 1, 1, 1, 1, 1, 1, 1, 1, 1, 1, 1, 1, 1, 1, 1, 1, 1, 1, 1, 1, 1, 1, 1, 1, 1, 1, 1, 1, 1, 1, 1, 1, 1, 1, 1, 1, 1, 1, 1, 1, 1, 1, 1, 1, 1, 1, 1, 1, 1, 1, 1, 1, 1, 1, 1, 1, 1, 1, 1, 1, 1]\n",
      "[0, 1, 0, 1, 1, 1, 1, 1, 1, 1, 1, 1, 1, 1, 1, 1, 0, 1, 1, 1, 1, 1, 1, 1, 1, 1, 1, 1, 1, 1, 1, 1, 1, 1, 1, 1, 1, 1, 1, 1, 1, 1, 1, 1, 1, 1, 1, 1, 1, 1, 1, 1, 1, 1, 1, 1, 1, 1, 1, 1, 1, 1, 1, 1, 1, 1, 1, 1, 1, 1, 1, 1, 1, 1, 1, 1, 1, 1, 1, 1, 1, 1, 1, 1, 1, 1, 1, 1, 1, 1, 1, 1, 1, 1, 1, 1, 1, 1, 1, 1, 1, 1, 1, 1, 1, 1, 1, 1, 1, 1, 1, 1, 1, 1, 1, 1, 1, 1, 1, 1, 1, 1, 1, 1, 1, 1, 1, 1, 1, 1, 1, 1, 1, 1, 1, 1, 1, 1, 1, 1, 1, 1, 1, 1, 1, 1, 1, 1, 1, 1, 1, 1, 1, 1, 1, 1, 1, 1, 1, 1, 1, 1, 1, 1, 1, 1, 1, 1, 1, 1, 1, 1, 1, 1, 1, 1, 1, 1, 1, 1, 1, 1, 1, 1, 1, 1, 1, 1, 1, 1, 1, 1, 1, 1, 1, 1, 1, 1, 1]\n"
     ]
    }
   ],
   "source": [
    "def decode_codeword(codeword,g):\n",
    "    s=syndromes(R(codeword))\n",
    "    L,C=bm(s)\n",
    "    error_size=C.degree()\n",
    "    for i in error_locations(C):\n",
    "        codeword[i]=(Integer(codeword[i])+1)%2\n",
    "    return codeword[n-k:]\n",
    "\n",
    "    \n",
    "\n",
    "m=[1]*k\n",
    "m[2]=0\n",
    "m[16]=0\n",
    "m[0]=0\n",
    "g=generator_polynomial()\n",
    "codeword=encode_message(m,g)\n",
    "error=[0]*(n)\n",
    "error[3]=1\n",
    "error[5]=1\n",
    "Z=list(np.array(codeword)+np.array(error))\n",
    "print(m)\n",
    "print(decode_codeword(Z,g))"
   ]
  },
  {
   "cell_type": "code",
   "execution_count": 324,
   "metadata": {},
   "outputs": [
    {
     "name": "stdout",
     "output_type": "stream",
     "text": [
      "0.08700589998625219\n",
      "0.08159519999753684\n",
      "0.09890949999680743\n",
      "0.09430900000734255\n",
      "0.10893950000172481\n",
      "0.09437529998831451\n",
      "0.09317150001879781\n",
      "0.1071407999843359\n",
      "0.09560830000555143\n",
      "0.09485799999674782\n"
     ]
    }
   ],
   "source": [
    "g=generator_polynomial()\n",
    "for blub in range(5):\n",
    "    message=[0]*k\n",
    "    for i in random.sample(range(k), k-2):\n",
    "            message[i]=1\n",
    "    codeword=encode_message(message,g)\n",
    "    \n",
    "    for bla in range(2):\n",
    "        error=[0]*(n)\n",
    "        for i in random.sample(range(n), (dist-1)//2):\n",
    "            codeword[i]=(Integer(codeword[i])+1)%2\n",
    "        tic=time.perf_counter()\n",
    "        decoded_message=decode_codeword(codeword,g)\n",
    "        toc=time.perf_counter()\n",
    "        print(toc-tic)\n",
    "        if not decoded_message==message:\n",
    "            print(\"Fail\")"
   ]
  },
  {
   "cell_type": "code",
   "execution_count": 286,
   "metadata": {},
   "outputs": [
    {
     "name": "stdout",
     "output_type": "stream",
     "text": [
      "1\n"
     ]
    }
   ],
   "source": [
    "print(4//3)"
   ]
  },
  {
   "cell_type": "code",
   "execution_count": null,
   "metadata": {},
   "outputs": [],
   "source": []
  }
 ],
 "metadata": {
  "kernelspec": {
   "display_name": "SageMath 9.2",
   "language": "sage",
   "name": "sagemath"
  },
  "language_info": {
   "codemirror_mode": {
    "name": "ipython",
    "version": 3
   },
   "file_extension": ".py",
   "mimetype": "text/x-python",
   "name": "python",
   "nbconvert_exporter": "python",
   "pygments_lexer": "ipython3",
   "version": "3.7.7"
  }
 },
 "nbformat": 4,
 "nbformat_minor": 4
}
